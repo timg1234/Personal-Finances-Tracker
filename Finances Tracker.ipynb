{
 "cells": [
  {
   "cell_type": "markdown",
   "metadata": {},
   "source": [
    "# Personal Finances Tracker\n",
    "![title](tenor.gif \"Header\")\n",
    "##### image is from the movie \"Dumb and Dumber\", copyright New Line Cinema "
   ]
  },
  {
   "cell_type": "code",
   "execution_count": 1,
   "metadata": {},
   "outputs": [],
   "source": [
    "import matplotlib as mpl\n",
    "import matplotlib.font_manager as font_manager\n",
    "import matplotlib.pyplot as plt \n",
    "import numpy as np\n",
    "import os\n",
    "import pandas as pd\n",
    "import seaborn as sb\n",
    "import time\n",
    "import pytz \n",
    "import datetime\n",
    "from datetime import datetime\n",
    "from matplotlib import style\n",
    "from matplotlib import pyplot as plt\n",
    "from matplotlib.backends.backend_pdf import PdfPages\n",
    "from matplotlib.dates import DateFormatter\n",
    "from pandas import Series, DataFrame, ExcelFile, ExcelWriter\n",
    "from pylab import *\n",
    "from pylab import rcParams\n",
    "style.use('fivethirtyeight')"
   ]
  },
  {
   "cell_type": "code",
   "execution_count": 2,
   "metadata": {},
   "outputs": [],
   "source": [
    "# % = IPython magic function, line below allows matplotlib images to appear\n",
    "%matplotlib inline\n",
    "\n",
    "# chart dimensions in inches (width, height)\n",
    "rcParams['figure.figsize'] = 20, 12\n",
    "sb.set_style('whitegrid')"
   ]
  },
  {
   "cell_type": "markdown",
   "metadata": {},
   "source": [
    "### Load time series data"
   ]
  },
  {
   "cell_type": "code",
   "execution_count": 3,
   "metadata": {},
   "outputs": [
    {
     "data": {
      "text/html": [
       "<div>\n",
       "<style scoped>\n",
       "    .dataframe tbody tr th:only-of-type {\n",
       "        vertical-align: middle;\n",
       "    }\n",
       "\n",
       "    .dataframe tbody tr th {\n",
       "        vertical-align: top;\n",
       "    }\n",
       "\n",
       "    .dataframe thead th {\n",
       "        text-align: right;\n",
       "    }\n",
       "</style>\n",
       "<table border=\"1\" class=\"dataframe\">\n",
       "  <thead>\n",
       "    <tr style=\"text-align: right;\">\n",
       "      <th></th>\n",
       "      <th>Car</th>\n",
       "      <th>Checking</th>\n",
       "      <th>Savings</th>\n",
       "      <th>CD</th>\n",
       "      <th>Stocks</th>\n",
       "      <th>Mortgage</th>\n",
       "      <th>S&amp;P 500</th>\n",
       "      <th>S&amp;P 500 CD Index, Excel</th>\n",
       "    </tr>\n",
       "    <tr>\n",
       "      <th>Date</th>\n",
       "      <th></th>\n",
       "      <th></th>\n",
       "      <th></th>\n",
       "      <th></th>\n",
       "      <th></th>\n",
       "      <th></th>\n",
       "      <th></th>\n",
       "      <th></th>\n",
       "    </tr>\n",
       "  </thead>\n",
       "  <tbody>\n",
       "    <tr>\n",
       "      <th>2020-03-06</th>\n",
       "      <td>16650</td>\n",
       "      <td>20000</td>\n",
       "      <td>10008.9</td>\n",
       "      <td>5293.1</td>\n",
       "      <td>262876.021505</td>\n",
       "      <td>111000</td>\n",
       "      <td>2747.00</td>\n",
       "      <td>6457.451810</td>\n",
       "    </tr>\n",
       "    <tr>\n",
       "      <th>2020-03-20</th>\n",
       "      <td>16500</td>\n",
       "      <td>20000</td>\n",
       "      <td>10009.0</td>\n",
       "      <td>5293.1</td>\n",
       "      <td>214121.226832</td>\n",
       "      <td>110000</td>\n",
       "      <td>2237.00</td>\n",
       "      <td>5258.580160</td>\n",
       "    </tr>\n",
       "    <tr>\n",
       "      <th>2020-04-03</th>\n",
       "      <td>16350</td>\n",
       "      <td>20000</td>\n",
       "      <td>10009.1</td>\n",
       "      <td>5293.1</td>\n",
       "      <td>238258.668375</td>\n",
       "      <td>109000</td>\n",
       "      <td>2488.65</td>\n",
       "      <td>5850.141044</td>\n",
       "    </tr>\n",
       "    <tr>\n",
       "      <th>2020-04-17</th>\n",
       "      <td>16200</td>\n",
       "      <td>20000</td>\n",
       "      <td>10009.2</td>\n",
       "      <td>5293.1</td>\n",
       "      <td>275297.090422</td>\n",
       "      <td>108000</td>\n",
       "      <td>2875.00</td>\n",
       "      <td>6758.345087</td>\n",
       "    </tr>\n",
       "    <tr>\n",
       "      <th>2020-05-01</th>\n",
       "      <td>16050</td>\n",
       "      <td>20000</td>\n",
       "      <td>10009.3</td>\n",
       "      <td>5293.1</td>\n",
       "      <td>271133.847995</td>\n",
       "      <td>107000</td>\n",
       "      <td>2831.00</td>\n",
       "      <td>6654.913023</td>\n",
       "    </tr>\n",
       "  </tbody>\n",
       "</table>\n",
       "</div>"
      ],
      "text/plain": [
       "              Car  Checking  Savings      CD         Stocks  Mortgage  \\\n",
       "Date                                                                    \n",
       "2020-03-06  16650     20000  10008.9  5293.1  262876.021505    111000   \n",
       "2020-03-20  16500     20000  10009.0  5293.1  214121.226832    110000   \n",
       "2020-04-03  16350     20000  10009.1  5293.1  238258.668375    109000   \n",
       "2020-04-17  16200     20000  10009.2  5293.1  275297.090422    108000   \n",
       "2020-05-01  16050     20000  10009.3  5293.1  271133.847995    107000   \n",
       "\n",
       "            S&P 500  S&P 500 CD Index, Excel  \n",
       "Date                                          \n",
       "2020-03-06  2747.00              6457.451810  \n",
       "2020-03-20  2237.00              5258.580160  \n",
       "2020-04-03  2488.65              5850.141044  \n",
       "2020-04-17  2875.00              6758.345087  \n",
       "2020-05-01  2831.00              6654.913023  "
      ]
     },
     "execution_count": 3,
     "metadata": {},
     "output_type": "execute_result"
    }
   ],
   "source": [
    "# update Excel file's name\n",
    "date = '05_01_20'\n",
    "address = 'Sample_Data_' + date + '.xlsx'\n",
    "\n",
    "# create dataframe\n",
    "df = pd.read_excel(address, sheet_name='Money', index_col='Date', parse_dates=True)\n",
    "df.tail()"
   ]
  },
  {
   "cell_type": "markdown",
   "metadata": {},
   "source": [
    "### Check for any irregularities"
   ]
  },
  {
   "cell_type": "code",
   "execution_count": 4,
   "metadata": {
    "scrolled": false
   },
   "outputs": [
    {
     "data": {
      "text/html": [
       "<div>\n",
       "<style scoped>\n",
       "    .dataframe tbody tr th:only-of-type {\n",
       "        vertical-align: middle;\n",
       "    }\n",
       "\n",
       "    .dataframe tbody tr th {\n",
       "        vertical-align: top;\n",
       "    }\n",
       "\n",
       "    .dataframe thead th {\n",
       "        text-align: right;\n",
       "    }\n",
       "</style>\n",
       "<table border=\"1\" class=\"dataframe\">\n",
       "  <thead>\n",
       "    <tr style=\"text-align: right;\">\n",
       "      <th></th>\n",
       "      <th>Car</th>\n",
       "      <th>Checking</th>\n",
       "      <th>Savings</th>\n",
       "      <th>CD</th>\n",
       "      <th>Stocks</th>\n",
       "      <th>Mortgage</th>\n",
       "      <th>S&amp;P 500</th>\n",
       "      <th>S&amp;P 500 CD Index, Excel</th>\n",
       "    </tr>\n",
       "    <tr>\n",
       "      <th>Date</th>\n",
       "      <th></th>\n",
       "      <th></th>\n",
       "      <th></th>\n",
       "      <th></th>\n",
       "      <th></th>\n",
       "      <th></th>\n",
       "      <th></th>\n",
       "      <th></th>\n",
       "    </tr>\n",
       "  </thead>\n",
       "  <tbody>\n",
       "    <tr>\n",
       "      <th>2016-10-16</th>\n",
       "      <td>False</td>\n",
       "      <td>False</td>\n",
       "      <td>False</td>\n",
       "      <td>False</td>\n",
       "      <td>False</td>\n",
       "      <td>False</td>\n",
       "      <td>False</td>\n",
       "      <td>False</td>\n",
       "    </tr>\n",
       "    <tr>\n",
       "      <th>2016-10-21</th>\n",
       "      <td>False</td>\n",
       "      <td>False</td>\n",
       "      <td>False</td>\n",
       "      <td>False</td>\n",
       "      <td>False</td>\n",
       "      <td>False</td>\n",
       "      <td>False</td>\n",
       "      <td>False</td>\n",
       "    </tr>\n",
       "    <tr>\n",
       "      <th>2016-11-06</th>\n",
       "      <td>False</td>\n",
       "      <td>False</td>\n",
       "      <td>False</td>\n",
       "      <td>False</td>\n",
       "      <td>False</td>\n",
       "      <td>False</td>\n",
       "      <td>False</td>\n",
       "      <td>False</td>\n",
       "    </tr>\n",
       "    <tr>\n",
       "      <th>2016-11-18</th>\n",
       "      <td>False</td>\n",
       "      <td>False</td>\n",
       "      <td>False</td>\n",
       "      <td>False</td>\n",
       "      <td>False</td>\n",
       "      <td>False</td>\n",
       "      <td>False</td>\n",
       "      <td>False</td>\n",
       "    </tr>\n",
       "    <tr>\n",
       "      <th>2016-12-02</th>\n",
       "      <td>False</td>\n",
       "      <td>False</td>\n",
       "      <td>False</td>\n",
       "      <td>False</td>\n",
       "      <td>False</td>\n",
       "      <td>False</td>\n",
       "      <td>False</td>\n",
       "      <td>False</td>\n",
       "    </tr>\n",
       "    <tr>\n",
       "      <th>...</th>\n",
       "      <td>...</td>\n",
       "      <td>...</td>\n",
       "      <td>...</td>\n",
       "      <td>...</td>\n",
       "      <td>...</td>\n",
       "      <td>...</td>\n",
       "      <td>...</td>\n",
       "      <td>...</td>\n",
       "    </tr>\n",
       "    <tr>\n",
       "      <th>2020-03-06</th>\n",
       "      <td>False</td>\n",
       "      <td>False</td>\n",
       "      <td>False</td>\n",
       "      <td>False</td>\n",
       "      <td>False</td>\n",
       "      <td>False</td>\n",
       "      <td>False</td>\n",
       "      <td>False</td>\n",
       "    </tr>\n",
       "    <tr>\n",
       "      <th>2020-03-20</th>\n",
       "      <td>False</td>\n",
       "      <td>False</td>\n",
       "      <td>False</td>\n",
       "      <td>False</td>\n",
       "      <td>False</td>\n",
       "      <td>False</td>\n",
       "      <td>False</td>\n",
       "      <td>False</td>\n",
       "    </tr>\n",
       "    <tr>\n",
       "      <th>2020-04-03</th>\n",
       "      <td>False</td>\n",
       "      <td>False</td>\n",
       "      <td>False</td>\n",
       "      <td>False</td>\n",
       "      <td>False</td>\n",
       "      <td>False</td>\n",
       "      <td>False</td>\n",
       "      <td>False</td>\n",
       "    </tr>\n",
       "    <tr>\n",
       "      <th>2020-04-17</th>\n",
       "      <td>False</td>\n",
       "      <td>False</td>\n",
       "      <td>False</td>\n",
       "      <td>False</td>\n",
       "      <td>False</td>\n",
       "      <td>False</td>\n",
       "      <td>False</td>\n",
       "      <td>False</td>\n",
       "    </tr>\n",
       "    <tr>\n",
       "      <th>2020-05-01</th>\n",
       "      <td>False</td>\n",
       "      <td>False</td>\n",
       "      <td>False</td>\n",
       "      <td>False</td>\n",
       "      <td>False</td>\n",
       "      <td>False</td>\n",
       "      <td>False</td>\n",
       "      <td>False</td>\n",
       "    </tr>\n",
       "  </tbody>\n",
       "</table>\n",
       "<p>94 rows × 8 columns</p>\n",
       "</div>"
      ],
      "text/plain": [
       "              Car  Checking  Savings     CD  Stocks  Mortgage  S&P 500  \\\n",
       "Date                                                                     \n",
       "2016-10-16  False     False    False  False   False     False    False   \n",
       "2016-10-21  False     False    False  False   False     False    False   \n",
       "2016-11-06  False     False    False  False   False     False    False   \n",
       "2016-11-18  False     False    False  False   False     False    False   \n",
       "2016-12-02  False     False    False  False   False     False    False   \n",
       "...           ...       ...      ...    ...     ...       ...      ...   \n",
       "2020-03-06  False     False    False  False   False     False    False   \n",
       "2020-03-20  False     False    False  False   False     False    False   \n",
       "2020-04-03  False     False    False  False   False     False    False   \n",
       "2020-04-17  False     False    False  False   False     False    False   \n",
       "2020-05-01  False     False    False  False   False     False    False   \n",
       "\n",
       "            S&P 500 CD Index, Excel  \n",
       "Date                                 \n",
       "2016-10-16                    False  \n",
       "2016-10-21                    False  \n",
       "2016-11-06                    False  \n",
       "2016-11-18                    False  \n",
       "2016-12-02                    False  \n",
       "...                             ...  \n",
       "2020-03-06                    False  \n",
       "2020-03-20                    False  \n",
       "2020-04-03                    False  \n",
       "2020-04-17                    False  \n",
       "2020-05-01                    False  \n",
       "\n",
       "[94 rows x 8 columns]"
      ]
     },
     "execution_count": 4,
     "metadata": {},
     "output_type": "execute_result"
    }
   ],
   "source": [
    "# Identify null values\n",
    "pd.isnull(df)"
   ]
  },
  {
   "cell_type": "code",
   "execution_count": 5,
   "metadata": {},
   "outputs": [
    {
     "data": {
      "text/plain": [
       "array(['Car', 'Checking', 'Savings', 'CD', 'Stocks', 'Mortgage',\n",
       "       'S&P 500', 'S&P 500 CD Index, Excel'], dtype=object)"
      ]
     },
     "execution_count": 5,
     "metadata": {},
     "output_type": "execute_result"
    }
   ],
   "source": [
    "# Look at the column names\n",
    "df.columns.values"
   ]
  },
  {
   "cell_type": "code",
   "execution_count": 6,
   "metadata": {},
   "outputs": [
    {
     "data": {
      "text/plain": [
       "(94, 8)"
      ]
     },
     "execution_count": 6,
     "metadata": {},
     "output_type": "execute_result"
    }
   ],
   "source": [
    "# find no. of rows, no. of columns\n",
    "df.shape"
   ]
  },
  {
   "cell_type": "code",
   "execution_count": 7,
   "metadata": {},
   "outputs": [
    {
     "data": {
      "text/html": [
       "<div>\n",
       "<style scoped>\n",
       "    .dataframe tbody tr th:only-of-type {\n",
       "        vertical-align: middle;\n",
       "    }\n",
       "\n",
       "    .dataframe tbody tr th {\n",
       "        vertical-align: top;\n",
       "    }\n",
       "\n",
       "    .dataframe thead th {\n",
       "        text-align: right;\n",
       "    }\n",
       "</style>\n",
       "<table border=\"1\" class=\"dataframe\">\n",
       "  <thead>\n",
       "    <tr style=\"text-align: right;\">\n",
       "      <th></th>\n",
       "      <th>Car</th>\n",
       "      <th>Checking</th>\n",
       "      <th>Savings</th>\n",
       "      <th>CD</th>\n",
       "      <th>Stocks</th>\n",
       "      <th>Mortgage</th>\n",
       "      <th>S&amp;P 500</th>\n",
       "      <th>S&amp;P 500 CD Index, Excel</th>\n",
       "    </tr>\n",
       "  </thead>\n",
       "  <tbody>\n",
       "    <tr>\n",
       "      <th>count</th>\n",
       "      <td>94.000000</td>\n",
       "      <td>94.000000</td>\n",
       "      <td>94.000000</td>\n",
       "      <td>94.000000</td>\n",
       "      <td>94.000000</td>\n",
       "      <td>94.000000</td>\n",
       "      <td>94.000000</td>\n",
       "      <td>94.000000</td>\n",
       "    </tr>\n",
       "    <tr>\n",
       "      <th>mean</th>\n",
       "      <td>23025.000000</td>\n",
       "      <td>11574.680851</td>\n",
       "      <td>10004.650000</td>\n",
       "      <td>5170.233830</td>\n",
       "      <td>255565.833539</td>\n",
       "      <td>153500.000000</td>\n",
       "      <td>2690.464362</td>\n",
       "      <td>6324.551861</td>\n",
       "    </tr>\n",
       "    <tr>\n",
       "      <th>std</th>\n",
       "      <td>4091.912756</td>\n",
       "      <td>3363.945681</td>\n",
       "      <td>2.727942</td>\n",
       "      <td>103.527292</td>\n",
       "      <td>28679.588230</td>\n",
       "      <td>27279.418371</td>\n",
       "      <td>290.158662</td>\n",
       "      <td>682.084301</td>\n",
       "    </tr>\n",
       "    <tr>\n",
       "      <th>min</th>\n",
       "      <td>16050.000000</td>\n",
       "      <td>8500.000000</td>\n",
       "      <td>10000.000000</td>\n",
       "      <td>5000.000000</td>\n",
       "      <td>196149.467940</td>\n",
       "      <td>107000.000000</td>\n",
       "      <td>2085.000000</td>\n",
       "      <td>4901.269394</td>\n",
       "    </tr>\n",
       "    <tr>\n",
       "      <th>25%</th>\n",
       "      <td>19537.500000</td>\n",
       "      <td>10220.000000</td>\n",
       "      <td>10002.325000</td>\n",
       "      <td>5068.300000</td>\n",
       "      <td>232293.703866</td>\n",
       "      <td>130250.000000</td>\n",
       "      <td>2459.000000</td>\n",
       "      <td>5780.441937</td>\n",
       "    </tr>\n",
       "    <tr>\n",
       "      <th>50%</th>\n",
       "      <td>23025.000000</td>\n",
       "      <td>10220.000000</td>\n",
       "      <td>10004.650000</td>\n",
       "      <td>5179.495000</td>\n",
       "      <td>258865.471049</td>\n",
       "      <td>153500.000000</td>\n",
       "      <td>2725.500000</td>\n",
       "      <td>6406.911142</td>\n",
       "    </tr>\n",
       "    <tr>\n",
       "      <th>75%</th>\n",
       "      <td>26512.500000</td>\n",
       "      <td>10500.000000</td>\n",
       "      <td>10006.975000</td>\n",
       "      <td>5291.875000</td>\n",
       "      <td>274040.897307</td>\n",
       "      <td>176750.000000</td>\n",
       "      <td>2875.000000</td>\n",
       "      <td>6758.345087</td>\n",
       "    </tr>\n",
       "    <tr>\n",
       "      <th>max</th>\n",
       "      <td>30000.000000</td>\n",
       "      <td>20000.000000</td>\n",
       "      <td>10009.300000</td>\n",
       "      <td>5293.100000</td>\n",
       "      <td>319371.408731</td>\n",
       "      <td>200000.000000</td>\n",
       "      <td>3338.000000</td>\n",
       "      <td>7846.732487</td>\n",
       "    </tr>\n",
       "  </tbody>\n",
       "</table>\n",
       "</div>"
      ],
      "text/plain": [
       "                Car      Checking       Savings           CD         Stocks  \\\n",
       "count     94.000000     94.000000     94.000000    94.000000      94.000000   \n",
       "mean   23025.000000  11574.680851  10004.650000  5170.233830  255565.833539   \n",
       "std     4091.912756   3363.945681      2.727942   103.527292   28679.588230   \n",
       "min    16050.000000   8500.000000  10000.000000  5000.000000  196149.467940   \n",
       "25%    19537.500000  10220.000000  10002.325000  5068.300000  232293.703866   \n",
       "50%    23025.000000  10220.000000  10004.650000  5179.495000  258865.471049   \n",
       "75%    26512.500000  10500.000000  10006.975000  5291.875000  274040.897307   \n",
       "max    30000.000000  20000.000000  10009.300000  5293.100000  319371.408731   \n",
       "\n",
       "            Mortgage      S&P 500  S&P 500 CD Index, Excel  \n",
       "count      94.000000    94.000000                94.000000  \n",
       "mean   153500.000000  2690.464362              6324.551861  \n",
       "std     27279.418371   290.158662               682.084301  \n",
       "min    107000.000000  2085.000000              4901.269394  \n",
       "25%    130250.000000  2459.000000              5780.441937  \n",
       "50%    153500.000000  2725.500000              6406.911142  \n",
       "75%    176750.000000  2875.000000              6758.345087  \n",
       "max    200000.000000  3338.000000              7846.732487  "
      ]
     },
     "execution_count": 7,
     "metadata": {},
     "output_type": "execute_result"
    }
   ],
   "source": [
    "# describe dataframe\n",
    "df.describe()"
   ]
  },
  {
   "cell_type": "code",
   "execution_count": 8,
   "metadata": {},
   "outputs": [
    {
     "data": {
      "text/plain": [
       "Car                         30000.000000\n",
       "Checking                    20000.000000\n",
       "Savings                     10009.300000\n",
       "CD                           5293.100000\n",
       "Stocks                     319371.408731\n",
       "Mortgage                   200000.000000\n",
       "S&P 500                      3338.000000\n",
       "S&P 500 CD Index, Excel      7846.732487\n",
       "dtype: float64"
      ]
     },
     "execution_count": 8,
     "metadata": {},
     "output_type": "execute_result"
    }
   ],
   "source": [
    "df.max(axis=0)"
   ]
  },
  {
   "cell_type": "code",
   "execution_count": 9,
   "metadata": {},
   "outputs": [],
   "source": [
    "# Set the font properties (for use in legend)   \n",
    "font_path = 'C:\\Windows\\Fonts\\Arial.ttf'\n",
    "font_prop = font_manager.FontProperties(fname=font_path, size=20)"
   ]
  },
  {
   "cell_type": "code",
   "execution_count": 10,
   "metadata": {},
   "outputs": [
    {
     "data": {
      "text/plain": [
       "'2020-12-13 17:50:11 CST-0600'"
      ]
     },
     "execution_count": 10,
     "metadata": {},
     "output_type": "execute_result"
    }
   ],
   "source": [
    "# Set datetime formatting\n",
    "from datetime import datetime\n",
    "chi = pytz.timezone(\"America/Chicago\")\n",
    "fmt = '%Y-%m-%d %H:%M:%S %Z%z'\n",
    "now = datetime.now(chi)\n",
    "time_a = now.strftime(fmt)\n",
    "time_a"
   ]
  },
  {
   "cell_type": "code",
   "execution_count": 11,
   "metadata": {},
   "outputs": [
    {
     "data": {
      "text/plain": [
       "str"
      ]
     },
     "execution_count": 11,
     "metadata": {},
     "output_type": "execute_result"
    }
   ],
   "source": [
    "type(time_a)"
   ]
  },
  {
   "cell_type": "code",
   "execution_count": 12,
   "metadata": {},
   "outputs": [
    {
     "data": {
      "text/plain": [
       "'2020-12-13 17:50:11'"
      ]
     },
     "execution_count": 12,
     "metadata": {},
     "output_type": "execute_result"
    }
   ],
   "source": [
    "# trim last 9 characters\n",
    "time_b = time_a[:-9]\n",
    "time_b"
   ]
  },
  {
   "cell_type": "code",
   "execution_count": 13,
   "metadata": {},
   "outputs": [
    {
     "data": {
      "text/plain": [
       "'2020-12-13 17-50-11'"
      ]
     },
     "execution_count": 13,
     "metadata": {},
     "output_type": "execute_result"
    }
   ],
   "source": [
    "# replace : with - to avoid Errno 22\n",
    "time_c = time_b.replace(':','-')\n",
    "time_c"
   ]
  },
  {
   "cell_type": "markdown",
   "metadata": {},
   "source": [
    "### Produce timeseries charts in PDF format"
   ]
  },
  {
   "cell_type": "code",
   "execution_count": 16,
   "metadata": {
    "scrolled": true
   },
   "outputs": [
    {
     "name": "stderr",
     "output_type": "stream",
     "text": [
      "<ipython-input-16-0ff6b1afd08c>:41: MatplotlibDeprecationWarning: Adding an axes using the same arguments as a previous axes currently reuses the earlier instance.  In a future version, a new instance will always be created and returned.  Meanwhile, this warning can be suppressed, and the future behavior ensured, by passing a unique label to each axes instance.\n",
      "  axes = plt.axes()\n"
     ]
    }
   ],
   "source": [
    "label_size = 20\n",
    "mpl.rcParams['xtick.labelsize'] = label_size \n",
    "mpl.rcParams['ytick.labelsize'] = label_size \n",
    "\n",
    "# Set the font dictionaries (for plot title and axis titles)\n",
    "title_font = {'fontname':'Arial', 'size':'48', 'color':'black', 'weight':'normal',\n",
    "              'verticalalignment':'bottom'} # Bottom vertical alignment for more space\n",
    "axis_font = {'fontname':'Arial', 'size':'20'}\n",
    "\n",
    "from matplotlib.backends.backend_pdf import PdfPages\n",
    "from datetime import datetime\n",
    "chi = pytz.timezone(\"America/Chicago\")\n",
    "fmt = '%Y-%m-%d %H:%M:%S %Z%z'\n",
    "now = datetime.now(chi)\n",
    "#print(now.strftime(fmt))\n",
    "\n",
    "with PdfPages('Finances Tracker ' + time_c + '.pdf') as pdf:\n",
    "    # Convert values to float\n",
    "    df=df.astype(float)\n",
    "\n",
    "    # Cash\n",
    "    plt.xlabel('Date',**axis_font)\n",
    "    plt.ylabel('$',**axis_font)\n",
    "    \n",
    "    # orignal title without values\n",
    "    #plt.title('Cash',**title_font)\n",
    "    \n",
    "    df['Cash']=df['Checking']+df['Savings'] \n",
    "    df['Cash'].plot()\n",
    "    plt.legend(loc='best', prop=font_prop, numpoints=1)   \n",
    "    \n",
    "    # Find latest cash balances, create array from data frame\n",
    "    c1 = df['Cash'].values\n",
    "    # find latest value from Mortgage Balance array\n",
    "    c2 = c1[-1]\n",
    "    # convert value to an integer then string so it can be used on the chart title\n",
    "    c3 = int(c2)    \n",
    "    # add to title\n",
    "    plt.title('Cash = $' + '{:,.0f}'.format(c3) + '.',**title_font)\n",
    "   \n",
    "    axes = plt.axes()\n",
    "    axes.set_ylim([0, 50000])\n",
    "        \n",
    "    pdf.savefig()    \n",
    "    plt.close()    \n",
    "    \n",
    "    # CD\n",
    "    plt.xlabel('Date',**axis_font)\n",
    "    plt.ylabel('$',**axis_font)\n",
    "    df['CD'].plot()\n",
    "    \n",
    "    # Calculate S&P 500 change from beginning value\n",
    "    sp_start_value = 2127\n",
    "    df['dSP_500_CD'] = df['S&P 500'] - sp_start_value\n",
    "    # Replace the first value (only NaN in dataframe) with 0\n",
    "    df = df.fillna(0)    \n",
    "    \n",
    "    # CD S&P 500 Index\n",
    "    df['CD S&P 500 Index, Python'] = (df['dSP_500_CD'] / df['S&P 500'].shift(1))\n",
    "    df['S&P 500 CD Index, Python']=np.where(df['CD']>5000,\n",
    "    (1+(df['dSP_500_CD']/2127)) * 5000,0)\n",
    "    # Replace the first value (only NaN in dataframe) with 0\n",
    "    df = df.fillna(0)\n",
    "    # convert 'S&P 500 CD Index' from object to float\n",
    "    df=df.astype(float)    \n",
    "    df['S&P 500 CD Index, Python'].plot()\n",
    "    # Plot Excel version too, to check\n",
    "    df['S&P 500 CD Index, Excel'].plot()\n",
    "    \n",
    "    plt.legend(loc='best', prop=font_prop, numpoints=1)\n",
    "    \n",
    "    # Find latest CD balances, create array from data frame\n",
    "    cd1 = df['CD'].values\n",
    "    # find latest value from Mortgage Balance array\n",
    "    cd2 = cd1[-1]\n",
    "    # convert value to an integer then string so it can be used on the chart title\n",
    "    cd3 = int(cd2)    \n",
    "    # add to title\n",
    "    plt.title('CD = $' + '{:,.0f}'.format(cd3) + '.',**title_font)\n",
    "\n",
    "    pdf.savefig()    \n",
    "    plt.close()    \n",
    "   \n",
    "    # Net Worth\n",
    "    df['Net Worth'] = df['Car'] + df['Checking'] + df['Savings']+ df['Stocks']- df['Mortgage']\n",
    "    plt.xlabel('Date',**axis_font)\n",
    "    plt.ylabel('$',**axis_font)\n",
    "    # create a Net Worth array from data frame\n",
    "    nw = df[\"Net Worth\"].values\n",
    "\n",
    "    # find last value Total Assets value\n",
    "    nwl = nw[-1]\n",
    "    nwli = int(nwl)\n",
    "    plt.title('Net Worth = $' + '{:,.0f}'.format(nwli) + '.',**title_font)\n",
    "\n",
    "    \n",
    "    #plt.legend(loc='best', prop=font_prop, numpoints=1)\n",
    "    df['Net Worth'].plot()\n",
    "    \n",
    "    pdf.savefig()    \n",
    "    plt.close()\n",
    "   \n",
    "os.startfile('Finances Tracker ' + time_c + '.pdf')"
   ]
  },
  {
   "cell_type": "code",
   "execution_count": null,
   "metadata": {},
   "outputs": [],
   "source": []
  }
 ],
 "metadata": {
  "anaconda-cloud": {},
  "kernelspec": {
   "display_name": "Python 3",
   "language": "python",
   "name": "python3"
  },
  "language_info": {
   "codemirror_mode": {
    "name": "ipython",
    "version": 3
   },
   "file_extension": ".py",
   "mimetype": "text/x-python",
   "name": "python",
   "nbconvert_exporter": "python",
   "pygments_lexer": "ipython3",
   "version": "3.8.5"
  }
 },
 "nbformat": 4,
 "nbformat_minor": 1
}
